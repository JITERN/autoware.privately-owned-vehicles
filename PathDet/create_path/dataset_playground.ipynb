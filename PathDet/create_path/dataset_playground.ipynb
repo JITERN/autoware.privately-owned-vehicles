{
 "cells": [
  {
   "cell_type": "code",
   "execution_count": 1,
   "metadata": {},
   "outputs": [],
   "source": [
    "import pathlib\n",
    "import json\n",
    "import numpy as np\n",
    "from PIL import Image, ImageDraw\n",
    "import sys"
   ]
  },
  {
   "cell_type": "code",
   "execution_count": 2,
   "metadata": {},
   "outputs": [
    {
     "name": "stdout",
     "output_type": "stream",
     "text": [
      "Saved output image with lanes overlayed: ./test_output.png\n"
     ]
    }
   ],
   "source": [
    "def draw_lanes_on_image(label_file, image_file, output_file):\n",
    "    # Load the label file\n",
    "    with open(label_file, 'r') as f:\n",
    "        label_data = json.load(f)\n",
    "\n",
    "    lanes = label_data['lanes']\n",
    "    h_samples = label_data['h_samples']\n",
    "    raw_file = label_data['raw_file']\n",
    "\n",
    "    # Load the original image\n",
    "    image = Image.open(image_file).convert(\"RGB\")\n",
    "    draw = ImageDraw.Draw(image)\n",
    "\n",
    "    # Define colors for lanes\n",
    "    lane_colors = [(255, 0, 0), (0, 255, 0), (0, 0, 255), (255, 255, 0)]  # Red, Green, Blue, Yellow\n",
    "\n",
    "    # Draw each lane\n",
    "    for idx, lane in enumerate(lanes):\n",
    "        points = [(x, y) for x, y in zip(lane, h_samples) if x != -2]\n",
    "        if points:\n",
    "            draw.line(points, fill=lane_colors[idx % len(lane_colors)], width=5)\n",
    "\n",
    "    # Save the output image\n",
    "    image.save(output_file, \"PNG\")\n",
    "    print(f\"Saved output image with lanes overlayed: {output_file}\")\n",
    "\n",
    "# Example usage\n",
    "label_file = \"/home/tranhuunhathuy/Downloads/tusiumple_1linesample.json\"  # Path to the label JSON file\n",
    "image_file = \"/home/tranhuunhathuy/Documents/Autoware/pov_datasets/tu_simple/TUSimple/test_set/clips/0530/1492626760788443246_0/20.jpg\"  # Path to the input image\n",
    "output_file = \"./test_output.png\"  # Path to save the output image\n",
    "\n",
    "draw_lanes_on_image(label_file, image_file, output_file)"
   ]
  }
 ],
 "metadata": {
  "kernelspec": {
   "display_name": "usr",
   "language": "python",
   "name": "python3"
  },
  "language_info": {
   "codemirror_mode": {
    "name": "ipython",
    "version": 3
   },
   "file_extension": ".py",
   "mimetype": "text/x-python",
   "name": "python",
   "nbconvert_exporter": "python",
   "pygments_lexer": "ipython3",
   "version": "3.10.12"
  }
 },
 "nbformat": 4,
 "nbformat_minor": 2
}
